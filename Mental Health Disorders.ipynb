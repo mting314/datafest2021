{
 "cells": [
  {
   "cell_type": "code",
   "execution_count": 1,
   "metadata": {},
   "outputs": [],
   "source": [
    "import pandas as pd"
   ]
  },
  {
   "cell_type": "code",
   "execution_count": 5,
   "metadata": {},
   "outputs": [],
   "source": [
    "CA_df = pd.read_csv(\"CA/ca.csv\")"
   ]
  },
  {
   "cell_type": "code",
   "execution_count": 8,
   "metadata": {},
   "outputs": [
    {
     "data": {
      "text/plain": [
       "0    2017-09-28 18:13:25\n",
       "1    2017-10-18 18:46:34\n",
       "2    2017-09-29 06:58:50\n",
       "3    2017-10-03 17:58:19\n",
       "4    2017-10-25 21:09:49\n",
       "Name: DATE, dtype: object"
      ]
     },
     "execution_count": 8,
     "metadata": {},
     "output_type": "execute_result"
    }
   ],
   "source": [
    "CA_df[\"DATE\"].head()"
   ]
  },
  {
   "cell_type": "code",
   "execution_count": 16,
   "metadata": {},
   "outputs": [],
   "source": [
    "CA_df[\"DATE\"] = pd.to_datetime(CA_df[\"DATE\"], format=\"%Y-%m-%d %H:%M:%S\")"
   ]
  },
  {
   "cell_type": "code",
   "execution_count": 18,
   "metadata": {},
   "outputs": [
    {
     "data": {
      "text/html": [
       "<div>\n",
       "<style scoped>\n",
       "    .dataframe tbody tr th:only-of-type {\n",
       "        vertical-align: middle;\n",
       "    }\n",
       "\n",
       "    .dataframe tbody tr th {\n",
       "        vertical-align: top;\n",
       "    }\n",
       "\n",
       "    .dataframe thead th {\n",
       "        text-align: right;\n",
       "    }\n",
       "</style>\n",
       "<table border=\"1\" class=\"dataframe\">\n",
       "  <thead>\n",
       "    <tr style=\"text-align: right;\">\n",
       "      <th></th>\n",
       "      <th>DATE</th>\n",
       "      <th>STATUS</th>\n",
       "      <th>QLANG</th>\n",
       "      <th>DEM_GENDER</th>\n",
       "      <th>DEM_AGE</th>\n",
       "      <th>DEM_ABOR</th>\n",
       "      <th>DEM_ABOR_TYPE</th>\n",
       "      <th>DEM_STDNT</th>\n",
       "      <th>DEM_VET</th>\n",
       "      <th>DEM_HEALTH</th>\n",
       "      <th>...</th>\n",
       "      <th>FENT_NMU_NTY</th>\n",
       "      <th>HYD_NMU_NTY</th>\n",
       "      <th>HYDM_NMU_NTY</th>\n",
       "      <th>METH_NMU_NTY</th>\n",
       "      <th>MORPH_NMU_NTY</th>\n",
       "      <th>OXY_NMU_NTY</th>\n",
       "      <th>OXYM_NMU_NTY</th>\n",
       "      <th>SUF_NMU_NTY</th>\n",
       "      <th>TAP_NMU_NTY</th>\n",
       "      <th>TRAM_NMU_NTY</th>\n",
       "    </tr>\n",
       "  </thead>\n",
       "  <tbody>\n",
       "    <tr>\n",
       "      <th>0</th>\n",
       "      <td>2017-09-28 18:13:25</td>\n",
       "      <td>3</td>\n",
       "      <td>1</td>\n",
       "      <td>1</td>\n",
       "      <td>18</td>\n",
       "      <td>0</td>\n",
       "      <td>NaN</td>\n",
       "      <td>0</td>\n",
       "      <td>0</td>\n",
       "      <td>0</td>\n",
       "      <td>...</td>\n",
       "      <td>0</td>\n",
       "      <td>0</td>\n",
       "      <td>0</td>\n",
       "      <td>0</td>\n",
       "      <td>0</td>\n",
       "      <td>0</td>\n",
       "      <td>0</td>\n",
       "      <td>0</td>\n",
       "      <td>0</td>\n",
       "      <td>0</td>\n",
       "    </tr>\n",
       "    <tr>\n",
       "      <th>1</th>\n",
       "      <td>2017-10-18 18:46:34</td>\n",
       "      <td>3</td>\n",
       "      <td>1</td>\n",
       "      <td>1</td>\n",
       "      <td>18</td>\n",
       "      <td>0</td>\n",
       "      <td>NaN</td>\n",
       "      <td>1</td>\n",
       "      <td>0</td>\n",
       "      <td>0</td>\n",
       "      <td>...</td>\n",
       "      <td>0</td>\n",
       "      <td>0</td>\n",
       "      <td>0</td>\n",
       "      <td>0</td>\n",
       "      <td>0</td>\n",
       "      <td>0</td>\n",
       "      <td>0</td>\n",
       "      <td>0</td>\n",
       "      <td>0</td>\n",
       "      <td>0</td>\n",
       "    </tr>\n",
       "    <tr>\n",
       "      <th>2</th>\n",
       "      <td>2017-09-29 06:58:50</td>\n",
       "      <td>3</td>\n",
       "      <td>1</td>\n",
       "      <td>1</td>\n",
       "      <td>24</td>\n",
       "      <td>0</td>\n",
       "      <td>NaN</td>\n",
       "      <td>0</td>\n",
       "      <td>0</td>\n",
       "      <td>0</td>\n",
       "      <td>...</td>\n",
       "      <td>0</td>\n",
       "      <td>0</td>\n",
       "      <td>0</td>\n",
       "      <td>0</td>\n",
       "      <td>0</td>\n",
       "      <td>0</td>\n",
       "      <td>0</td>\n",
       "      <td>0</td>\n",
       "      <td>0</td>\n",
       "      <td>0</td>\n",
       "    </tr>\n",
       "    <tr>\n",
       "      <th>3</th>\n",
       "      <td>2017-10-03 17:58:19</td>\n",
       "      <td>3</td>\n",
       "      <td>1</td>\n",
       "      <td>1</td>\n",
       "      <td>16</td>\n",
       "      <td>0</td>\n",
       "      <td>NaN</td>\n",
       "      <td>1</td>\n",
       "      <td>0</td>\n",
       "      <td>0</td>\n",
       "      <td>...</td>\n",
       "      <td>0</td>\n",
       "      <td>0</td>\n",
       "      <td>0</td>\n",
       "      <td>0</td>\n",
       "      <td>0</td>\n",
       "      <td>0</td>\n",
       "      <td>0</td>\n",
       "      <td>0</td>\n",
       "      <td>0</td>\n",
       "      <td>0</td>\n",
       "    </tr>\n",
       "    <tr>\n",
       "      <th>4</th>\n",
       "      <td>2017-10-25 21:09:49</td>\n",
       "      <td>3</td>\n",
       "      <td>1</td>\n",
       "      <td>1</td>\n",
       "      <td>21</td>\n",
       "      <td>0</td>\n",
       "      <td>NaN</td>\n",
       "      <td>1</td>\n",
       "      <td>0</td>\n",
       "      <td>0</td>\n",
       "      <td>...</td>\n",
       "      <td>0</td>\n",
       "      <td>0</td>\n",
       "      <td>0</td>\n",
       "      <td>0</td>\n",
       "      <td>0</td>\n",
       "      <td>0</td>\n",
       "      <td>0</td>\n",
       "      <td>0</td>\n",
       "      <td>0</td>\n",
       "      <td>0</td>\n",
       "    </tr>\n",
       "  </tbody>\n",
       "</table>\n",
       "<p>5 rows × 185 columns</p>\n",
       "</div>"
      ],
      "text/plain": [
       "                 DATE  STATUS  QLANG  DEM_GENDER  DEM_AGE  DEM_ABOR  \\\n",
       "0 2017-09-28 18:13:25       3      1           1       18         0   \n",
       "1 2017-10-18 18:46:34       3      1           1       18         0   \n",
       "2 2017-09-29 06:58:50       3      1           1       24         0   \n",
       "3 2017-10-03 17:58:19       3      1           1       16         0   \n",
       "4 2017-10-25 21:09:49       3      1           1       21         0   \n",
       "\n",
       "   DEM_ABOR_TYPE  DEM_STDNT  DEM_VET  DEM_HEALTH  ...  FENT_NMU_NTY  \\\n",
       "0            NaN          0        0           0  ...             0   \n",
       "1            NaN          1        0           0  ...             0   \n",
       "2            NaN          0        0           0  ...             0   \n",
       "3            NaN          1        0           0  ...             0   \n",
       "4            NaN          1        0           0  ...             0   \n",
       "\n",
       "   HYD_NMU_NTY HYDM_NMU_NTY  METH_NMU_NTY  MORPH_NMU_NTY  OXY_NMU_NTY  \\\n",
       "0            0            0             0              0            0   \n",
       "1            0            0             0              0            0   \n",
       "2            0            0             0              0            0   \n",
       "3            0            0             0              0            0   \n",
       "4            0            0             0              0            0   \n",
       "\n",
       "   OXYM_NMU_NTY  SUF_NMU_NTY  TAP_NMU_NTY  TRAM_NMU_NTY  \n",
       "0             0            0            0             0  \n",
       "1             0            0            0             0  \n",
       "2             0            0            0             0  \n",
       "3             0            0            0             0  \n",
       "4             0            0            0             0  \n",
       "\n",
       "[5 rows x 185 columns]"
      ]
     },
     "execution_count": 18,
     "metadata": {},
     "output_type": "execute_result"
    }
   ],
   "source": [
    "CA_df.head()"
   ]
  },
  {
   "cell_type": "code",
   "execution_count": null,
   "metadata": {},
   "outputs": [],
   "source": [
    "import numpy as np"
   ]
  },
  {
   "cell_type": "code",
   "execution_count": 25,
   "metadata": {},
   "outputs": [
    {
     "data": {
      "text/html": [
       "<div>\n",
       "<style scoped>\n",
       "    .dataframe tbody tr th:only-of-type {\n",
       "        vertical-align: middle;\n",
       "    }\n",
       "\n",
       "    .dataframe tbody tr th {\n",
       "        vertical-align: top;\n",
       "    }\n",
       "\n",
       "    .dataframe thead th {\n",
       "        text-align: right;\n",
       "    }\n",
       "</style>\n",
       "<table border=\"1\" class=\"dataframe\">\n",
       "  <thead>\n",
       "    <tr style=\"text-align: right;\">\n",
       "      <th></th>\n",
       "      <th>STATUS</th>\n",
       "      <th>QLANG</th>\n",
       "      <th>DEM_AGE</th>\n",
       "      <th>DEM_ABOR</th>\n",
       "      <th>DEM_ABOR_TYPE</th>\n",
       "      <th>DEM_STDNT</th>\n",
       "      <th>DEM_VET</th>\n",
       "      <th>DEM_HEALTH</th>\n",
       "      <th>DEM_LOCATION</th>\n",
       "      <th>DEM_REGION</th>\n",
       "      <th>...</th>\n",
       "      <th>FENT_NMU_NTY</th>\n",
       "      <th>HYD_NMU_NTY</th>\n",
       "      <th>HYDM_NMU_NTY</th>\n",
       "      <th>METH_NMU_NTY</th>\n",
       "      <th>MORPH_NMU_NTY</th>\n",
       "      <th>OXY_NMU_NTY</th>\n",
       "      <th>OXYM_NMU_NTY</th>\n",
       "      <th>SUF_NMU_NTY</th>\n",
       "      <th>TAP_NMU_NTY</th>\n",
       "      <th>TRAM_NMU_NTY</th>\n",
       "    </tr>\n",
       "    <tr>\n",
       "      <th>DEM_GENDER</th>\n",
       "      <th></th>\n",
       "      <th></th>\n",
       "      <th></th>\n",
       "      <th></th>\n",
       "      <th></th>\n",
       "      <th></th>\n",
       "      <th></th>\n",
       "      <th></th>\n",
       "      <th></th>\n",
       "      <th></th>\n",
       "      <th></th>\n",
       "      <th></th>\n",
       "      <th></th>\n",
       "      <th></th>\n",
       "      <th></th>\n",
       "      <th></th>\n",
       "      <th></th>\n",
       "      <th></th>\n",
       "      <th></th>\n",
       "      <th></th>\n",
       "      <th></th>\n",
       "    </tr>\n",
       "  </thead>\n",
       "  <tbody>\n",
       "    <tr>\n",
       "      <th>1</th>\n",
       "      <td>3.0</td>\n",
       "      <td>1.325674</td>\n",
       "      <td>52.302697</td>\n",
       "      <td>0.054146</td>\n",
       "      <td>1.254613</td>\n",
       "      <td>0.076124</td>\n",
       "      <td>0.080120</td>\n",
       "      <td>0.027373</td>\n",
       "      <td>6.350450</td>\n",
       "      <td>2.795205</td>\n",
       "      <td>...</td>\n",
       "      <td>0.000599</td>\n",
       "      <td>0.001399</td>\n",
       "      <td>0.001598</td>\n",
       "      <td>0.001399</td>\n",
       "      <td>0.001598</td>\n",
       "      <td>0.001798</td>\n",
       "      <td>0.001199</td>\n",
       "      <td>0.000599</td>\n",
       "      <td>0.0004</td>\n",
       "      <td>0.001798</td>\n",
       "    </tr>\n",
       "    <tr>\n",
       "      <th>2</th>\n",
       "      <td>3.0</td>\n",
       "      <td>1.329068</td>\n",
       "      <td>49.078169</td>\n",
       "      <td>0.032387</td>\n",
       "      <td>1.388889</td>\n",
       "      <td>0.087765</td>\n",
       "      <td>0.011595</td>\n",
       "      <td>0.057577</td>\n",
       "      <td>6.355258</td>\n",
       "      <td>2.795682</td>\n",
       "      <td>...</td>\n",
       "      <td>0.000200</td>\n",
       "      <td>0.000600</td>\n",
       "      <td>0.001599</td>\n",
       "      <td>0.000600</td>\n",
       "      <td>0.001000</td>\n",
       "      <td>0.001399</td>\n",
       "      <td>0.000400</td>\n",
       "      <td>0.000000</td>\n",
       "      <td>0.0004</td>\n",
       "      <td>0.001399</td>\n",
       "    </tr>\n",
       "  </tbody>\n",
       "</table>\n",
       "<p>2 rows × 181 columns</p>\n",
       "</div>"
      ],
      "text/plain": [
       "            STATUS     QLANG    DEM_AGE  DEM_ABOR  DEM_ABOR_TYPE  DEM_STDNT  \\\n",
       "DEM_GENDER                                                                    \n",
       "1              3.0  1.325674  52.302697  0.054146       1.254613   0.076124   \n",
       "2              3.0  1.329068  49.078169  0.032387       1.388889   0.087765   \n",
       "\n",
       "             DEM_VET  DEM_HEALTH  DEM_LOCATION  DEM_REGION  ...  FENT_NMU_NTY  \\\n",
       "DEM_GENDER                                                  ...                 \n",
       "1           0.080120    0.027373      6.350450    2.795205  ...      0.000599   \n",
       "2           0.011595    0.057577      6.355258    2.795682  ...      0.000200   \n",
       "\n",
       "            HYD_NMU_NTY  HYDM_NMU_NTY  METH_NMU_NTY  MORPH_NMU_NTY  \\\n",
       "DEM_GENDER                                                           \n",
       "1              0.001399      0.001598      0.001399       0.001598   \n",
       "2              0.000600      0.001599      0.000600       0.001000   \n",
       "\n",
       "            OXY_NMU_NTY  OXYM_NMU_NTY  SUF_NMU_NTY  TAP_NMU_NTY  TRAM_NMU_NTY  \n",
       "DEM_GENDER                                                                     \n",
       "1              0.001798      0.001199     0.000599       0.0004      0.001798  \n",
       "2              0.001399      0.000400     0.000000       0.0004      0.001399  \n",
       "\n",
       "[2 rows x 181 columns]"
      ]
     },
     "execution_count": 25,
     "metadata": {},
     "output_type": "execute_result"
    }
   ],
   "source": [
    "CA_df.groupby(\"DEM_GENDER\").agg(np.mean)"
   ]
  },
  {
   "cell_type": "code",
   "execution_count": 35,
   "metadata": {},
   "outputs": [
    {
     "data": {
      "text/plain": [
       "0.012091535924852603"
      ]
     },
     "execution_count": 35,
     "metadata": {},
     "output_type": "execute_result"
    }
   ],
   "source": [
    "CA_df[\"MENT_AUT\"].mean()"
   ]
  },
  {
   "cell_type": "code",
   "execution_count": 36,
   "metadata": {},
   "outputs": [],
   "source": [
    "autism_df = CA_df.loc[CA_df[\"MENT_AUT\"] == 1]"
   ]
  },
  {
   "cell_type": "code",
   "execution_count": 42,
   "metadata": {},
   "outputs": [
    {
     "data": {
      "text/plain": [
       "0.4628099173553719"
      ]
     },
     "execution_count": 42,
     "metadata": {},
     "output_type": "execute_result"
    }
   ],
   "source": [
    "(autism_df[\"CAN_REC_USE\"] != 1).mean()"
   ]
  },
  {
   "cell_type": "code",
   "execution_count": 43,
   "metadata": {},
   "outputs": [
    {
     "data": {
      "text/plain": [
       "0.3680423703407615"
      ]
     },
     "execution_count": 43,
     "metadata": {},
     "output_type": "execute_result"
    }
   ],
   "source": [
    "(CA_df[\"CAN_REC_USE\"] != 1).mean()"
   ]
  },
  {
   "cell_type": "code",
   "execution_count": 46,
   "metadata": {},
   "outputs": [],
   "source": [
    "import seaborn as sns"
   ]
  },
  {
   "cell_type": "code",
   "execution_count": 48,
   "metadata": {},
   "outputs": [],
   "source": [
    "nmu_columns = [col for col in CA_df.columns if col.endswith(\"_NMU\")]"
   ]
  },
  {
   "cell_type": "code",
   "execution_count": 49,
   "metadata": {},
   "outputs": [
    {
     "data": {
      "text/plain": [
       "['FENT_NMU',\n",
       " 'BUP_NMU',\n",
       " 'METH_NMU',\n",
       " 'MORPH_NMU',\n",
       " 'OXY_NMU',\n",
       " 'OXYM_NMU',\n",
       " 'TRAM_NMU',\n",
       " 'TAP_NMU',\n",
       " 'COD_NMU',\n",
       " 'COTC_NMU',\n",
       " 'HYD_NMU',\n",
       " 'HYDM_NMU',\n",
       " 'SUF_NMU',\n",
       " 'STIM_NMU',\n",
       " 'BENZ_NMU',\n",
       " 'THC_NMU',\n",
       " 'DRSHOP_NMU']"
      ]
     },
     "execution_count": 49,
     "metadata": {},
     "output_type": "execute_result"
    }
   ],
   "source": [
    "nmu_columns"
   ]
  },
  {
   "cell_type": "code",
   "execution_count": 55,
   "metadata": {},
   "outputs": [
    {
     "data": {
      "text/plain": [
       "{'THC_NMU': 0.456,\n",
       " 'STIM_NMU': 0.3319672131147541,\n",
       " 'TAP_NMU': 0.3191489361702128,\n",
       " 'BUP_NMU': 0.28901734104046245,\n",
       " 'COTC_NMU': 0.25646095184296,\n",
       " 'OXYM_NMU': 0.2510460251046025,\n",
       " 'METH_NMU': 0.2409090909090909,\n",
       " 'COD_NMU': 0.22976980652450218,\n",
       " 'SUF_NMU': 0.15577889447236182,\n",
       " 'FENT_NMU': 0.14326647564469913,\n",
       " 'HYD_NMU': 0.13700384122919335,\n",
       " 'TRAM_NMU': 0.11866666666666667,\n",
       " 'OXY_NMU': 0.11805998723675813,\n",
       " 'HYDM_NMU': 0.10384959713518353,\n",
       " 'BENZ_NMU': 0.09579918032786885,\n",
       " 'MORPH_NMU': 0.0662414131501472,\n",
       " 'DRSHOP_NMU': 0.01299090636554412}"
      ]
     },
     "execution_count": 55,
     "metadata": {},
     "output_type": "execute_result"
    }
   ],
   "source": [
    "{k: v for k, v in sorted(nmu_dict.items(), key=lambda item: -item[1])}"
   ]
  },
  {
   "cell_type": "code",
   "execution_count": 61,
   "metadata": {},
   "outputs": [],
   "source": [
    "high_nmu_columns = ['THC_NMU', 'STIM_NMU', 'TAP_NMU', 'BUP_NMU', 'COTC_NMU']\n",
    "high_nmu_columns.append(\"MENT_AUT\")"
   ]
  },
  {
   "cell_type": "code",
   "execution_count": 64,
   "metadata": {},
   "outputs": [
    {
     "data": {
      "text/html": [
       "<div>\n",
       "<style scoped>\n",
       "    .dataframe tbody tr th:only-of-type {\n",
       "        vertical-align: middle;\n",
       "    }\n",
       "\n",
       "    .dataframe tbody tr th {\n",
       "        vertical-align: top;\n",
       "    }\n",
       "\n",
       "    .dataframe thead th {\n",
       "        text-align: right;\n",
       "    }\n",
       "</style>\n",
       "<table border=\"1\" class=\"dataframe\">\n",
       "  <thead>\n",
       "    <tr style=\"text-align: right;\">\n",
       "      <th></th>\n",
       "      <th>index</th>\n",
       "      <th>MENT_AUT</th>\n",
       "    </tr>\n",
       "  </thead>\n",
       "  <tbody>\n",
       "    <tr>\n",
       "      <th>0</th>\n",
       "      <td>0</td>\n",
       "      <td>9886</td>\n",
       "    </tr>\n",
       "    <tr>\n",
       "      <th>1</th>\n",
       "      <td>1</td>\n",
       "      <td>121</td>\n",
       "    </tr>\n",
       "  </tbody>\n",
       "</table>\n",
       "</div>"
      ],
      "text/plain": [
       "   index  MENT_AUT\n",
       "0      0      9886\n",
       "1      1       121"
      ]
     },
     "execution_count": 64,
     "metadata": {},
     "output_type": "execute_result"
    }
   ],
   "source": [
    "distr_vals = pd.value_counts(CA_df['MENT_AUT']).to_frame().reset_index()\n",
    "distr_vals\n"
   ]
  },
  {
   "cell_type": "code",
   "execution_count": 62,
   "metadata": {
    "scrolled": false
   },
   "outputs": [
    {
     "data": {
      "text/html": [
       "<div>\n",
       "<style scoped>\n",
       "    .dataframe tbody tr th:only-of-type {\n",
       "        vertical-align: middle;\n",
       "    }\n",
       "\n",
       "    .dataframe tbody tr th {\n",
       "        vertical-align: top;\n",
       "    }\n",
       "\n",
       "    .dataframe thead th {\n",
       "        text-align: right;\n",
       "    }\n",
       "</style>\n",
       "<table border=\"1\" class=\"dataframe\">\n",
       "  <thead>\n",
       "    <tr style=\"text-align: right;\">\n",
       "      <th></th>\n",
       "      <th>THC_NMU</th>\n",
       "      <th>STIM_NMU</th>\n",
       "      <th>TAP_NMU</th>\n",
       "      <th>BUP_NMU</th>\n",
       "      <th>COTC_NMU</th>\n",
       "      <th>MENT_AUT</th>\n",
       "    </tr>\n",
       "  </thead>\n",
       "  <tbody>\n",
       "    <tr>\n",
       "      <th>0</th>\n",
       "      <td>NaN</td>\n",
       "      <td>NaN</td>\n",
       "      <td>NaN</td>\n",
       "      <td>NaN</td>\n",
       "      <td>NaN</td>\n",
       "      <td>0</td>\n",
       "    </tr>\n",
       "    <tr>\n",
       "      <th>1</th>\n",
       "      <td>NaN</td>\n",
       "      <td>NaN</td>\n",
       "      <td>NaN</td>\n",
       "      <td>NaN</td>\n",
       "      <td>NaN</td>\n",
       "      <td>0</td>\n",
       "    </tr>\n",
       "    <tr>\n",
       "      <th>2</th>\n",
       "      <td>NaN</td>\n",
       "      <td>NaN</td>\n",
       "      <td>NaN</td>\n",
       "      <td>NaN</td>\n",
       "      <td>NaN</td>\n",
       "      <td>0</td>\n",
       "    </tr>\n",
       "    <tr>\n",
       "      <th>3</th>\n",
       "      <td>NaN</td>\n",
       "      <td>NaN</td>\n",
       "      <td>NaN</td>\n",
       "      <td>NaN</td>\n",
       "      <td>NaN</td>\n",
       "      <td>0</td>\n",
       "    </tr>\n",
       "    <tr>\n",
       "      <th>4</th>\n",
       "      <td>NaN</td>\n",
       "      <td>1.0</td>\n",
       "      <td>NaN</td>\n",
       "      <td>NaN</td>\n",
       "      <td>0.0</td>\n",
       "      <td>0</td>\n",
       "    </tr>\n",
       "    <tr>\n",
       "      <th>...</th>\n",
       "      <td>...</td>\n",
       "      <td>...</td>\n",
       "      <td>...</td>\n",
       "      <td>...</td>\n",
       "      <td>...</td>\n",
       "      <td>...</td>\n",
       "    </tr>\n",
       "    <tr>\n",
       "      <th>10002</th>\n",
       "      <td>NaN</td>\n",
       "      <td>NaN</td>\n",
       "      <td>NaN</td>\n",
       "      <td>NaN</td>\n",
       "      <td>0.0</td>\n",
       "      <td>0</td>\n",
       "    </tr>\n",
       "    <tr>\n",
       "      <th>10003</th>\n",
       "      <td>NaN</td>\n",
       "      <td>NaN</td>\n",
       "      <td>NaN</td>\n",
       "      <td>NaN</td>\n",
       "      <td>0.0</td>\n",
       "      <td>0</td>\n",
       "    </tr>\n",
       "    <tr>\n",
       "      <th>10004</th>\n",
       "      <td>NaN</td>\n",
       "      <td>NaN</td>\n",
       "      <td>NaN</td>\n",
       "      <td>NaN</td>\n",
       "      <td>NaN</td>\n",
       "      <td>0</td>\n",
       "    </tr>\n",
       "    <tr>\n",
       "      <th>10005</th>\n",
       "      <td>NaN</td>\n",
       "      <td>NaN</td>\n",
       "      <td>NaN</td>\n",
       "      <td>NaN</td>\n",
       "      <td>NaN</td>\n",
       "      <td>0</td>\n",
       "    </tr>\n",
       "    <tr>\n",
       "      <th>10006</th>\n",
       "      <td>NaN</td>\n",
       "      <td>0.0</td>\n",
       "      <td>0.0</td>\n",
       "      <td>NaN</td>\n",
       "      <td>0.0</td>\n",
       "      <td>0</td>\n",
       "    </tr>\n",
       "  </tbody>\n",
       "</table>\n",
       "<p>10007 rows × 6 columns</p>\n",
       "</div>"
      ],
      "text/plain": [
       "       THC_NMU  STIM_NMU  TAP_NMU  BUP_NMU  COTC_NMU  MENT_AUT\n",
       "0          NaN       NaN      NaN      NaN       NaN         0\n",
       "1          NaN       NaN      NaN      NaN       NaN         0\n",
       "2          NaN       NaN      NaN      NaN       NaN         0\n",
       "3          NaN       NaN      NaN      NaN       NaN         0\n",
       "4          NaN       1.0      NaN      NaN       0.0         0\n",
       "...        ...       ...      ...      ...       ...       ...\n",
       "10002      NaN       NaN      NaN      NaN       0.0         0\n",
       "10003      NaN       NaN      NaN      NaN       0.0         0\n",
       "10004      NaN       NaN      NaN      NaN       NaN         0\n",
       "10005      NaN       NaN      NaN      NaN       NaN         0\n",
       "10006      NaN       0.0      0.0      NaN       0.0         0\n",
       "\n",
       "[10007 rows x 6 columns]"
      ]
     },
     "execution_count": 62,
     "metadata": {},
     "output_type": "execute_result"
    }
   ],
   "source": [
    "CA_df[high_nmu_columns]"
   ]
  },
  {
   "cell_type": "code",
   "execution_count": null,
   "metadata": {},
   "outputs": [],
   "source": [
    "g = sns.catplot(x=\"time\", y=\"pulse\", hue=\"MENT_AUT\",data=CA_df, kind=\"violin\")"
   ]
  }
 ],
 "metadata": {
  "kernelspec": {
   "display_name": "Python 3",
   "language": "python",
   "name": "python3"
  },
  "language_info": {
   "codemirror_mode": {
    "name": "ipython",
    "version": 3
   },
   "file_extension": ".py",
   "mimetype": "text/x-python",
   "name": "python",
   "nbconvert_exporter": "python",
   "pygments_lexer": "ipython3",
   "version": "3.8.5"
  }
 },
 "nbformat": 4,
 "nbformat_minor": 4
}
